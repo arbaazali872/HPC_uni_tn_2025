{
 "cells": [
  {
   "cell_type": "code",
   "execution_count": null,
   "metadata": {},
   "outputs": [],
   "source": [
    "log_file_path = 'path_to_your_log_file.log'\n",
    "\n",
    "with open(log_file_path, 'r') as file:\n",
    "    log_content = file.readlines()\n"
   ]
  }
 ],
 "metadata": {
  "language_info": {
   "name": "python"
  }
 },
 "nbformat": 4,
 "nbformat_minor": 2
}
